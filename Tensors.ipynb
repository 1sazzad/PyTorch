{
  "nbformat": 4,
  "nbformat_minor": 0,
  "metadata": {
    "colab": {
      "provenance": [],
      "gpuType": "T4",
      "authorship_tag": "ABX9TyM5mt0DtOi+z485sH7tGp7B",
      "include_colab_link": true
    },
    "kernelspec": {
      "name": "python3",
      "display_name": "Python 3"
    },
    "language_info": {
      "name": "python"
    },
    "accelerator": "GPU"
  },
  "cells": [
    {
      "cell_type": "markdown",
      "metadata": {
        "id": "view-in-github",
        "colab_type": "text"
      },
      "source": [
        "<a href=\"https://colab.research.google.com/github/1sazzad/PyTorch/blob/main/Tensors.ipynb\" target=\"_parent\"><img src=\"https://colab.research.google.com/assets/colab-badge.svg\" alt=\"Open In Colab\"/></a>"
      ]
    },
    {
      "cell_type": "markdown",
      "source": [
        "#**Tensors**\n",
        "\n",
        "\n",
        "*   A torch. Tensor is a multi-dimensional matrix containing elements of a single data type\n",
        "*   Similar to Numpy array, but full of fun things that make them work better on GPU's(vs regular CPU's)\n",
        "*   default data type of float32.\n",
        "*   More suitable for deep learning than a numpy array\n",
        "\n"
      ],
      "metadata": {
        "id": "3UWN0leX2Nl7"
      }
    }
  ]
}